{
 "cells": [
  {
   "cell_type": "code",
   "execution_count": 9,
   "metadata": {},
   "outputs": [],
   "source": [
    "import pandas as pd\n",
    "from sklearn import linear_model # 繪圖函式庫\n",
    "import matplotlib.pyplot as plt  # 繪圖函式庫"
   ]
  },
  {
   "cell_type": "code",
   "execution_count": 10,
   "metadata": {},
   "outputs": [
    {
     "name": "stdout",
     "output_type": "stream",
     "text": [
      "[[96.63965569]]\n"
     ]
    },
    {
     "data": {
      "image/png": "[encoded data removed]",
      "text/plain": [
       "<Figure size 432x288 with 1 Axes>"
      ]
     },
     "metadata": {
      "needs_background": "light"
     },
     "output_type": "display_data"
    }
   ],
   "source": [
    "#read data\n",
    "dataframe = pd.read_fwf('brain_body.txt') #讀取txt數據\n",
    "x_values = dataframe[['Body']] # 身體的數據\n",
    "y_values = dataframe[['Brain']] # 大腦的數據\n",
    "\n",
    "#訓練\n",
    "body_reg = linear_model.LinearRegression() #使用線性迴歸模型\n",
    "\n",
    "body_reg.fit(x_values,y_values)\n",
    "pre=body_reg.predict(x_values)\n",
    "\n",
    "#訓練預測\n",
    "print(body_reg.predict( pd.DataFrame(data=[[170]])))\n",
    "\n",
    "#圖形化\n",
    "plt.scatter(x_values,y_values)\n",
    "plt.plot(x_values,pre)\n",
    "plt.show()"
   ]
  },
  {
   "cell_type": "code",
   "execution_count": 16,
   "metadata": {},
   "outputs": [
    {
     "name": "stdout",
     "output_type": "stream",
     "text": [
      "Coefficients: \n",
      " [938.23786125]\n",
      "Mean squared error: 2548.07\n",
      "Variance score: 0.47\n"
     ]
    },
    {
     "data": {
      "image/png": "[encoded data removed]",
      "text/plain": [
       "<Figure size 432x288 with 1 Axes>"
      ]
     },
     "metadata": {},
     "output_type": "display_data"
    }
   ],
   "source": [
    "import matplotlib.pyplot as plt  # 繪圖函式庫\n",
    "import numpy as np\n",
    "from sklearn import datasets, linear_model #線性回歸函式庫\n",
    "\n",
    "#取得糖尿病數據\n",
    "diabetes = datasets.load_diabetes()\n",
    "\n",
    "#只取第3個特徵值BMI\n",
    "diabetes_X = diabetes.data[:,np.newaxis,2]\n",
    "\n",
    "#切分特徵值BMMI\n",
    "diabetes_X_train = diabetes_X[:-20] #切割 0到20筆特徵給訓練用\n",
    "diabetes_X_test = diabetes_X[-20:] # 切割最後20筆特徵給訓練用\n",
    "\n",
    "#切分答案\n",
    "diabetes_Y_train = diabetes.target[:-20] #切割 0到20筆答案給訓練用\n",
    "diabetes_Y_test = diabetes.target[-20:] # 切割最後20筆答案給訓練用\n",
    "\n",
    "#計算\n",
    "regr = linear_model.LinearRegression() #建立線性迴歸\n",
    "\n",
    "regr.fit(diabetes_X_train,diabetes_Y_train) #訓練\n",
    "\n",
    "#係數\n",
    "print('Coefficients: \\n',regr.coef_)\n",
    "#均方誤差\n",
    "print(\"Mean squared error: %.2f\"\n",
    "     % np.mean((regr.predict(diabetes_X_test) - diabetes_Y_test) ** 2))\n",
    "\n",
    "#顯示方差分數:1 是完美預測\n",
    "print('Variance score: %.2f' % regr.score(diabetes_X_test, diabetes_Y_test))\n",
    "\n",
    "#繪圖\n",
    "plt.scatter(diabetes_X_test, diabetes_Y_test, color='black')\n",
    "plt.plot(diabetes_X_test,regr.predict(diabetes_X_test),color='blue',\n",
    "        linewidth=3)\n",
    "\n",
    "plt.xticks(())\n",
    "plt.yticks(())\n",
    "plt.show()"
   ]
  },
  {
   "cell_type": "code",
   "execution_count": null,
   "metadata": {},
   "outputs": [],
   "source": []
  },
  {
   "cell_type": "code",
   "execution_count": null,
   "metadata": {},
   "outputs": [],
   "source": []
  },
  {
   "cell_type": "code",
   "execution_count": null,
   "metadata": {},
   "outputs": [],
   "source": []
  }
 ],
 "metadata": {
  "kernelspec": {
   "display_name": "Python 3",
   "language": "python",
   "name": "python3"
  },
  "language_info": {
   "codemirror_mode": {
    "name": "ipython",
    "version": 3
   },
   "file_extension": ".py",
   "mimetype": "text/x-python",
   "name": "python",
   "nbconvert_exporter": "python",
   "pygments_lexer": "ipython3",
   "version": "3.8.5"
  }
 },
 "nbformat": 4,
 "nbformat_minor": 4
}
